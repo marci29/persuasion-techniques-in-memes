{
 "cells": [
  {
   "cell_type": "code",
   "execution_count": 1,
   "id": "8000c731-fe3b-4fb5-a99f-784848f1b1a6",
   "metadata": {},
   "outputs": [],
   "source": [
    "import os\n",
    "import json\n",
    "import sys\n",
    "base_path = \"/home/marci/Documents/gits/persuasion-techniques-in-memes\" # your path to persuasion-techniques-in-memes\n",
    "repo_path = \"team_2/scripts\"\n",
    "\n",
    "sys.path.insert(1, os.path.join(base_path, repo_path))\n",
    "\n",
    "from defs_data import extract_number, rename_files_in_folder, draw_images_with_xmls, reduce_xml_file_to_chars, xml2yolo"
   ]
  },
  {
   "cell_type": "code",
   "execution_count": 2,
   "id": "d52fea28-de2e-4e9d-9558-1aa376cf6d42",
   "metadata": {},
   "outputs": [],
   "source": [
    "data_dir_old = os.path.join(base_path, \"team_2/data/raw/data_kaist\")\n",
    "data_dir_new = os.path.join(base_path, \"team_2/data/processed/data_kaist\")\n",
    "\n",
    "if not os.path.exists(data_dir_new):\n",
    "    os.makedirs(data_dir_new)\n",
    "rename_files_in_folder(data_dir_old, data_dir_new)"
   ]
  },
  {
   "cell_type": "code",
   "execution_count": 3,
   "id": "21e0a5c1-111a-441c-b1a7-9ac688d8237f",
   "metadata": {},
   "outputs": [],
   "source": [
    "# Drawing bboxes on images\n",
    "#draw_images_with_xmls(data_dir_new)"
   ]
  },
  {
   "cell_type": "code",
   "execution_count": 4,
   "id": "72a137de-415a-49f4-a2c9-5d6f515c0337",
   "metadata": {
    "scrolled": true
   },
   "outputs": [],
   "source": [
    "# Define the directory containing xml files and new directory to save files\n",
    "xml_dir_new = os.path.join(base_path, \"team_2/data/processed/data_kaist_chars\")\n",
    "if not os.path.exists(xml_dir_new):\n",
    "    os.makedirs(xml_dir_new)\n",
    "\n",
    "# Loop through all files in the directory and rewrite labels and coordinates in new files\n",
    "for filename in os.listdir(data_dir_new):\n",
    "    if filename.endswith(\".xml\"):\n",
    "        reduce_xml_file_to_chars(filename, data_dir_new, xml_dir_new)"
   ]
  },
  {
   "cell_type": "code",
   "execution_count": 5,
   "id": "59ce9984-c104-4116-b1dc-8a278874db45",
   "metadata": {
    "scrolled": true
   },
   "outputs": [],
   "source": [
    "# Load the json file with id - char pairs\n",
    "file_path = os.path.join(base_path, \"team_2/data/other/chars_mapping.json\")\n",
    "\n",
    "with open(file_path, 'r') as json_file:\n",
    "    char_to_class = json.load(json_file)\n",
    "\n",
    "output_dir = os.path.join(base_path, \"team_2/data/processed/data_kaist_yolo\")\n",
    "if not os.path.exists(output_dir):\n",
    "    os.makedirs(output_dir)\n",
    "    \n",
    "try:\n",
    "    # Run the conversion from xml to yolo txt\n",
    "    xml2yolo(xml_dir_new, output_dir, char_to_class)\n",
    "    \n",
    "except:\n",
    "    print()"
   ]
  },
  {
   "cell_type": "code",
   "execution_count": null,
   "id": "5eeb0e46",
   "metadata": {},
   "outputs": [],
   "source": []
  }
 ],
 "metadata": {
  "kernelspec": {
   "display_name": "Python 3",
   "language": "python",
   "name": "python3"
  },
  "language_info": {
   "codemirror_mode": {
    "name": "ipython",
    "version": 3
   },
   "file_extension": ".py",
   "mimetype": "text/x-python",
   "name": "python",
   "nbconvert_exporter": "python",
   "pygments_lexer": "ipython3",
   "version": "3.12.7"
  }
 },
 "nbformat": 4,
 "nbformat_minor": 5
}
